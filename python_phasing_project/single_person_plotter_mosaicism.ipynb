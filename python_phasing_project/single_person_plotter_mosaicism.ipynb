{
 "cells": [
  {
   "cell_type": "code",
   "execution_count": null,
   "metadata": {},
   "outputs": [],
   "source": [
    "import helper_functions\n",
    "import sandia_stats\n",
    "import time\n",
    "from collections import Counter\n",
    "import numpy as np\n",
    "import matplotlib.pyplot as plt\n",
    "import phasing_functions\n",
    "from math import floor\n",
    "%matplotlib inline"
   ]
  },
  {
   "cell_type": "code",
   "execution_count": null,
   "metadata": {},
   "outputs": [],
   "source": [
    "# Generate individual plots for a person for a specific chromsome\n",
    "chr_num = 7\n"
   ]
  },
  {
   "cell_type": "code",
   "execution_count": null,
   "metadata": {},
   "outputs": [],
   "source": [
    "# Step 0: Read config file\n",
    "with open('phasing_config_file.txt', 'r') as f:\n",
    "    config_elem = {}\n",
    "    for line in f:\n",
    "        line_split = line.strip().split('\\t')\n",
    "        #print(line_split)\n",
    "        config_elem[line_split[0]] = line_split[1]\n"
   ]
  },
  {
   "cell_type": "code",
   "execution_count": null,
   "metadata": {},
   "outputs": [],
   "source": [
    "# Step 1: Obtain names from ped file\n",
    "names = helper_functions.ped_file_reader(config_elem[\"PED_FILE\"])"
   ]
  },
  {
   "cell_type": "code",
   "execution_count": null,
   "metadata": {},
   "outputs": [],
   "source": [
    "# Step 2: Read in the vcf file\n",
    "df = helper_functions.read_VCF(config_elem[\"VCF_FILE\"], names)"
   ]
  },
  {
   "cell_type": "code",
   "execution_count": null,
   "metadata": {},
   "outputs": [],
   "source": [
    "# Step 3: obtain only SNPs\n",
    "SNP_df = helper_functions.SNP_filter(df)"
   ]
  },
  {
   "cell_type": "code",
   "execution_count": null,
   "metadata": {},
   "outputs": [],
   "source": [
    "# Step 4: Filter by chromosome number\n",
    "chr7_df = helper_functions.chromosome_filter(SNP_df, 7)"
   ]
  },
  {
   "cell_type": "code",
   "execution_count": null,
   "metadata": {},
   "outputs": [],
   "source": [
    "# Step 5: Do phasing\n",
    "vcf_pos, maternal_rd, paternal_rd = phasable_snp_determiner(chr7_df, config_elem[\"PROBAND_NAME\"], names[0], names[1])"
   ]
  },
  {
   "cell_type": "code",
   "execution_count": null,
   "metadata": {},
   "outputs": [],
   "source": [
    "# Generate difference array\n",
    "diff_arr = maternal_rd - paternal_rd"
   ]
  },
  {
   "cell_type": "code",
   "execution_count": null,
   "metadata": {},
   "outputs": [],
   "source": [
    "plt.plot(diff_arr)"
   ]
  }
 ],
 "metadata": {
  "kernelspec": {
   "display_name": "Python 3",
   "language": "python",
   "name": "python3"
  },
  "language_info": {
   "codemirror_mode": {
    "name": "ipython",
    "version": 3
   },
   "file_extension": ".py",
   "mimetype": "text/x-python",
   "name": "python",
   "nbconvert_exporter": "python",
   "pygments_lexer": "ipython3",
   "version": "3.8.5"
  }
 },
 "nbformat": 4,
 "nbformat_minor": 4
}

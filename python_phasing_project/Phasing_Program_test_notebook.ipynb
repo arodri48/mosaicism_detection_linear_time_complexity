{
 "cells": [
  {
   "cell_type": "code",
   "execution_count": 1,
   "metadata": {},
   "outputs": [],
   "source": [
    "from child import Child\n",
    "import helper_functions"
   ]
  },
  {
   "cell_type": "code",
   "execution_count": 2,
   "metadata": {},
   "outputs": [
    {
     "name": "stdout",
     "output_type": "stream",
     "text": [
      "['C:\\\\Users\\\\rodriguezah\\\\Desktop\\\\mosaicism_phasing\\\\UDP18111.ped', 'C:\\\\Users\\\\rodriguezah\\\\Desktop\\\\mosaicism_phasing\\\\cohort_joint_genotyped_UDP18111.vcf']\n"
     ]
    }
   ],
   "source": [
    "# Step 0: Read config file\n",
    "config_file_path = 'phasing_config_file.txt'\n",
    "with open(config_file_path, 'r') as f:\n",
    "    config_elem = [line.strip().split('\\t')[1] for line in f]\n",
    "    \n",
    "print(config_elem)"
   ]
  },
  {
   "cell_type": "code",
   "execution_count": 3,
   "metadata": {},
   "outputs": [],
   "source": [
    "# Step 1: Obtain names from ped file\n",
    "names = helper_functions.ped_file_reader(config_elem[0])"
   ]
  },
  {
   "cell_type": "code",
   "execution_count": 4,
   "metadata": {},
   "outputs": [
    {
     "name": "stdout",
     "output_type": "stream",
     "text": [
      "['UDP18144', 'UDP18145', 'UDP18111', 'UDP18143', 'UDP18142']\n"
     ]
    }
   ],
   "source": [
    "print(names)"
   ]
  },
  {
   "cell_type": "code",
   "execution_count": 5,
   "metadata": {},
   "outputs": [
    {
     "name": "stderr",
     "output_type": "stream",
     "text": [
      "C:\\Users\\rodriguezah\\Anaconda3\\lib\\site-packages\\IPython\\core\\interactiveshell.py:3338: DtypeWarning: Columns (0,5) have mixed types.Specify dtype option on import or set low_memory=False.\n",
      "  if (await self.run_code(code, result,  async_=asy)):\n"
     ]
    }
   ],
   "source": [
    "# Step 2: Read in the vcf file and get only SNP list\n",
    "df = helper_functions.read_VCF(config_elem[1], names)"
   ]
  },
  {
   "cell_type": "code",
   "execution_count": 7,
   "metadata": {},
   "outputs": [
    {
     "data": {
      "text/html": [
       "<div>\n",
       "<style scoped>\n",
       "    .dataframe tbody tr th:only-of-type {\n",
       "        vertical-align: middle;\n",
       "    }\n",
       "\n",
       "    .dataframe tbody tr th {\n",
       "        vertical-align: top;\n",
       "    }\n",
       "\n",
       "    .dataframe thead th {\n",
       "        text-align: right;\n",
       "    }\n",
       "</style>\n",
       "<table border=\"1\" class=\"dataframe\">\n",
       "  <thead>\n",
       "    <tr style=\"text-align: right;\">\n",
       "      <th></th>\n",
       "      <th>#CHROM</th>\n",
       "      <th>POS</th>\n",
       "      <th>ID</th>\n",
       "      <th>REF</th>\n",
       "      <th>ALT</th>\n",
       "      <th>QUAL</th>\n",
       "      <th>FILTER</th>\n",
       "      <th>INFO</th>\n",
       "      <th>FORMAT</th>\n",
       "      <th>UDP18111</th>\n",
       "      <th>UDP18142</th>\n",
       "      <th>UDP18143</th>\n",
       "      <th>UDP18144</th>\n",
       "      <th>UDP18145</th>\n",
       "    </tr>\n",
       "  </thead>\n",
       "  <tbody>\n",
       "    <tr>\n",
       "      <th>6602304</th>\n",
       "      <td>MT</td>\n",
       "      <td>16270</td>\n",
       "      <td>.</td>\n",
       "      <td>C</td>\n",
       "      <td>T</td>\n",
       "      <td>NaN</td>\n",
       "      <td>.</td>\n",
       "      <td>DP=15153;MQ=58.10</td>\n",
       "      <td>GT:AD:AF:DP:FT:LOD:F1R2:F2R1:PS</td>\n",
       "      <td>0/0:3405,92:0.026:2712:PASS:.:.:.:.</td>\n",
       "      <td>0/0:4358,128:0.029:3388:PASS:.:.:.:.</td>\n",
       "      <td>0/0:3950,86:0.021:3448:PASS:.:.:.:.</td>\n",
       "      <td>0|1:0,2580:1.000:2580:PASS:10097.59:0,1201:0,1...</td>\n",
       "      <td>0/0:3265,43:0.013:2636:PASS:.:.:.:.</td>\n",
       "    </tr>\n",
       "    <tr>\n",
       "      <th>6602305</th>\n",
       "      <td>MT</td>\n",
       "      <td>16291</td>\n",
       "      <td>.</td>\n",
       "      <td>C</td>\n",
       "      <td>T</td>\n",
       "      <td>NaN</td>\n",
       "      <td>.</td>\n",
       "      <td>DP=15104;MQ=59.07</td>\n",
       "      <td>GT:AD:AF:DP:FT:LOD:F1R2:F2R1:PS</td>\n",
       "      <td>0/0:3405,92:0.026:2712:PASS:.:.:.:.</td>\n",
       "      <td>0/0:4358,128:0.029:3388:PASS:.:.:.:.</td>\n",
       "      <td>0/0:3950,86:0.021:3448:PASS:.:.:.:.</td>\n",
       "      <td>0/0:2326,202:0.080:2528:LowGQ:.:.:.:.</td>\n",
       "      <td>0|1:2335,7:0.003:2342:PASS:8.61:1141,3:1194,4:...</td>\n",
       "    </tr>\n",
       "    <tr>\n",
       "      <th>6602306</th>\n",
       "      <td>MT</td>\n",
       "      <td>16293</td>\n",
       "      <td>.</td>\n",
       "      <td>A</td>\n",
       "      <td>G</td>\n",
       "      <td>NaN</td>\n",
       "      <td>.</td>\n",
       "      <td>DP=14775;MQ=58.49</td>\n",
       "      <td>GT:AD:AF:DP:FT:LOD:F1R2:F2R1</td>\n",
       "      <td>0/0:3405,92:0.026:2712:PASS:.:.:.</td>\n",
       "      <td>0/0:4358,128:0.029:3388:PASS:.:.:.</td>\n",
       "      <td>0/0:3950,86:0.021:3448:PASS:.:.:.</td>\n",
       "      <td>0/1:2195,6:0.003:2201:PASS:6.68:1051,5:1144,1</td>\n",
       "      <td>0/0:2516,138:0.052:2596:PASS:.:.:.</td>\n",
       "    </tr>\n",
       "    <tr>\n",
       "      <th>6602307</th>\n",
       "      <td>MT</td>\n",
       "      <td>16298</td>\n",
       "      <td>.</td>\n",
       "      <td>T</td>\n",
       "      <td>C</td>\n",
       "      <td>NaN</td>\n",
       "      <td>.</td>\n",
       "      <td>DP=15734;MQ=59.22</td>\n",
       "      <td>GT:AD:AF:DP:FT:LOD:F1R2:F2R1:PS</td>\n",
       "      <td>0/1:2,2262:0.999:2264:PASS:9173.87:1,1097:1,11...</td>\n",
       "      <td>0/1:7,3022:0.998:3029:PASS:12235.42:5,1537:2,1...</td>\n",
       "      <td>0/1:3,3116:0.999:3119:PASS:12601.79:2,1560:1,1...</td>\n",
       "      <td>0/0:2215,234:0.096:2449:LowGQ:.:.:.:.</td>\n",
       "      <td>0|1:2,2287:0.999:2289:PASS:9290.33:0,1111:2,11...</td>\n",
       "    </tr>\n",
       "    <tr>\n",
       "      <th>6602308</th>\n",
       "      <td>MT</td>\n",
       "      <td>16365</td>\n",
       "      <td>.</td>\n",
       "      <td>C</td>\n",
       "      <td>T</td>\n",
       "      <td>NaN</td>\n",
       "      <td>.</td>\n",
       "      <td>DP=13671;MQ=58.38</td>\n",
       "      <td>GT:AD:AF:DP:FT:LOD:F1R2:F2R1</td>\n",
       "      <td>0/0:2451,178:0.068:2618:PASS:.:.:.</td>\n",
       "      <td>0/0:3010,201:0.063:3199:PASS:.:.:.</td>\n",
       "      <td>0/0:3057,220:0.067:3267:PASS:.:.:.</td>\n",
       "      <td>0/1:1827,4:0.002:1831:lod_fstar:4.38:845,3:982,1</td>\n",
       "      <td>0/0:2145,131:0.058:2261:PASS:.:.:.</td>\n",
       "    </tr>\n",
       "  </tbody>\n",
       "</table>\n",
       "</div>"
      ],
      "text/plain": [
       "        #CHROM    POS ID REF ALT  QUAL FILTER               INFO  \\\n",
       "6602304     MT  16270  .   C   T   NaN      .  DP=15153;MQ=58.10   \n",
       "6602305     MT  16291  .   C   T   NaN      .  DP=15104;MQ=59.07   \n",
       "6602306     MT  16293  .   A   G   NaN      .  DP=14775;MQ=58.49   \n",
       "6602307     MT  16298  .   T   C   NaN      .  DP=15734;MQ=59.22   \n",
       "6602308     MT  16365  .   C   T   NaN      .  DP=13671;MQ=58.38   \n",
       "\n",
       "                                  FORMAT  \\\n",
       "6602304  GT:AD:AF:DP:FT:LOD:F1R2:F2R1:PS   \n",
       "6602305  GT:AD:AF:DP:FT:LOD:F1R2:F2R1:PS   \n",
       "6602306     GT:AD:AF:DP:FT:LOD:F1R2:F2R1   \n",
       "6602307  GT:AD:AF:DP:FT:LOD:F1R2:F2R1:PS   \n",
       "6602308     GT:AD:AF:DP:FT:LOD:F1R2:F2R1   \n",
       "\n",
       "                                                  UDP18111  \\\n",
       "6602304                0/0:3405,92:0.026:2712:PASS:.:.:.:.   \n",
       "6602305                0/0:3405,92:0.026:2712:PASS:.:.:.:.   \n",
       "6602306                  0/0:3405,92:0.026:2712:PASS:.:.:.   \n",
       "6602307  0/1:2,2262:0.999:2264:PASS:9173.87:1,1097:1,11...   \n",
       "6602308                 0/0:2451,178:0.068:2618:PASS:.:.:.   \n",
       "\n",
       "                                                  UDP18142  \\\n",
       "6602304               0/0:4358,128:0.029:3388:PASS:.:.:.:.   \n",
       "6602305               0/0:4358,128:0.029:3388:PASS:.:.:.:.   \n",
       "6602306                 0/0:4358,128:0.029:3388:PASS:.:.:.   \n",
       "6602307  0/1:7,3022:0.998:3029:PASS:12235.42:5,1537:2,1...   \n",
       "6602308                 0/0:3010,201:0.063:3199:PASS:.:.:.   \n",
       "\n",
       "                                                  UDP18143  \\\n",
       "6602304                0/0:3950,86:0.021:3448:PASS:.:.:.:.   \n",
       "6602305                0/0:3950,86:0.021:3448:PASS:.:.:.:.   \n",
       "6602306                  0/0:3950,86:0.021:3448:PASS:.:.:.   \n",
       "6602307  0/1:3,3116:0.999:3119:PASS:12601.79:2,1560:1,1...   \n",
       "6602308                 0/0:3057,220:0.067:3267:PASS:.:.:.   \n",
       "\n",
       "                                                  UDP18144  \\\n",
       "6602304  0|1:0,2580:1.000:2580:PASS:10097.59:0,1201:0,1...   \n",
       "6602305              0/0:2326,202:0.080:2528:LowGQ:.:.:.:.   \n",
       "6602306      0/1:2195,6:0.003:2201:PASS:6.68:1051,5:1144,1   \n",
       "6602307              0/0:2215,234:0.096:2449:LowGQ:.:.:.:.   \n",
       "6602308   0/1:1827,4:0.002:1831:lod_fstar:4.38:845,3:982,1   \n",
       "\n",
       "                                                  UDP18145  \n",
       "6602304                0/0:3265,43:0.013:2636:PASS:.:.:.:.  \n",
       "6602305  0|1:2335,7:0.003:2342:PASS:8.61:1141,3:1194,4:...  \n",
       "6602306                 0/0:2516,138:0.052:2596:PASS:.:.:.  \n",
       "6602307  0|1:2,2287:0.999:2289:PASS:9290.33:0,1111:2,11...  \n",
       "6602308                 0/0:2145,131:0.058:2261:PASS:.:.:.  "
      ]
     },
     "execution_count": 7,
     "metadata": {},
     "output_type": "execute_result"
    }
   ],
   "source": [
    "df.tail()"
   ]
  },
  {
   "cell_type": "code",
   "execution_count": null,
   "metadata": {},
   "outputs": [],
   "source": [
    "# Step 3: Filter by specific chromosome and chromosome quality\n",
    "chr7_df = helper_functions.filter_VCF_by_chr_and_SNP(df, 7)"
   ]
  },
  {
   "cell_type": "code",
   "execution_count": null,
   "metadata": {},
   "outputs": [],
   "source": [
    "# Step 4: Create list of children\n",
    "    children = [Child(names[i], names[0], names[1]) for i in range(2, len(names))]"
   ]
  },
  {
   "cell_type": "code",
   "execution_count": null,
   "metadata": {},
   "outputs": [],
   "source": [
    "# Step 5: Generate phasable SNP data for each child\n",
    "    for elem in children:\n",
    "        elem.phasable_snp_determiner(chr7_df)"
   ]
  },
  {
   "cell_type": "code",
   "execution_count": null,
   "metadata": {},
   "outputs": [],
   "source": [
    "# Step 6: Do sliding t-test for each child and see if possible mosaicism present\n",
    "    for elem in children:\n",
    "        elem.t_test_snps(10)"
   ]
  },
  {
   "cell_type": "code",
   "execution_count": null,
   "metadata": {},
   "outputs": [],
   "source": [
    "# Step 7: Check if a child is mosaic\n",
    "    mosaic_child_present = False\n",
    "    for elem in children:\n",
    "        if elem.est_start_of_mosaicism != 0:\n",
    "            mosaic_child_present = True\n",
    "            elem.edge_detection(50, 100, 0.5)\n",
    "\n",
    "    # if all clear, print out\n",
    "    if not mosaic_child_present:\n",
    "        print(\"No child is mosaic\")"
   ]
  }
 ],
 "metadata": {
  "kernelspec": {
   "display_name": "Python 3",
   "language": "python",
   "name": "python3"
  },
  "language_info": {
   "codemirror_mode": {
    "name": "ipython",
    "version": 3
   },
   "file_extension": ".py",
   "mimetype": "text/x-python",
   "name": "python",
   "nbconvert_exporter": "python",
   "pygments_lexer": "ipython3",
   "version": "3.8.5"
  }
 },
 "nbformat": 4,
 "nbformat_minor": 4
}

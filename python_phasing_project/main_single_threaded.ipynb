{
 "cells": [
  {
   "cell_type": "code",
   "execution_count": null,
   "metadata": {},
   "outputs": [],
   "source": [
    "from child import Child\n",
    "import helper_functions\n",
    "import sandia_stats"
   ]
  },
  {
   "cell_type": "code",
   "execution_count": null,
   "metadata": {},
   "outputs": [],
   "source": [
    "# Step 0: Read config file\n",
    "with open('phasing_config_file.txt', 'r') as f:\n",
    "    config_elem = {}\n",
    "    for line in f:\n",
    "        line_split = line.strip().split('\\t')\n",
    "        config_elem[line_split[0]] = line_split[1]"
   ]
  },
  {
   "cell_type": "code",
   "execution_count": null,
   "metadata": {},
   "outputs": [],
   "source": [
    "# Step 1: Obtain names from ped file\n",
    "names = helper_functions.ped_file_reader(config_elem[\"PED_FILE\"])"
   ]
  },
  {
   "cell_type": "code",
   "execution_count": null,
   "metadata": {},
   "outputs": [],
   "source": [
    "# Testing: print names\n",
    "print(names)"
   ]
  },
  {
   "cell_type": "code",
   "execution_count": null,
   "metadata": {},
   "outputs": [],
   "source": [
    "# Step 2: Read in the vcf file\n",
    "df = helper_functions.read_VCF(config_elem[\"VCF_FILE\"], names)"
   ]
  },
  {
   "cell_type": "code",
   "execution_count": null,
   "metadata": {},
   "outputs": [],
   "source": [
    "# for testing: print the header, then the footer\n",
    "df.head()\n",
    "#df.tail()"
   ]
  },
  {
   "cell_type": "code",
   "execution_count": null,
   "metadata": {},
   "outputs": [],
   "source": [
    "# Step 3: obtain only high quality SNPs\n",
    "SNP_df = helper_functions.SNP_filter(df)"
   ]
  },
  {
   "cell_type": "code",
   "execution_count": null,
   "metadata": {},
   "outputs": [],
   "source": [
    "# testing purposes\n",
    "SNP_df.head()"
   ]
  },
  {
   "cell_type": "code",
   "execution_count": null,
   "metadata": {},
   "outputs": [],
   "source": [
    "# Step 4: Analyze only the proband \n",
    "chromosome_list = [i for i in range(1,23)]"
   ]
  },
  {
   "cell_type": "code",
   "execution_count": null,
   "metadata": {},
   "outputs": [],
   "source": [
    "# testing purposes\n",
    "print(chromosome_list)"
   ]
  },
  {
   "cell_type": "code",
   "execution_count": null,
   "metadata": {},
   "outputs": [],
   "source": [
    "# Step 5: Create child object for proband\n",
    "proband = Child(names[2], names[0], names[1], SNP_df)"
   ]
  },
  {
   "cell_type": "code",
   "execution_count": null,
   "metadata": {},
   "outputs": [],
   "source": [
    "def sandia_t_test_snps(vcf_pos, maternal_rd, paternal_rd, samp_size=10000, t_thres=25):\n",
    "    mom_minus_samp_size = maternal_rd.size - samp_size\n",
    "    if 0 > mom_minus_samp_size:\n",
    "        print(\"Sample size is larger than total number of data points\")\n",
    "        return None\n",
    "    else:\n",
    "        # Step 1: Allocate an array that will store the t\n",
    "        t_values = []\n",
    "        # Step 2: Generate difference array between mom and dad\n",
    "        diff_arr = (maternal_rd - paternal_rd).tolist()\n",
    "        # Step 3: Calculate initial moments\n",
    "        moments = sandia_stats.m1_m2_moment_generator(diff_arr[0:samp_size])\n",
    "        # Step 4: Calculate t-statistic for first window\n",
    "        t_values.append(abs(moments[0] / (moments[1]**0.5/samp_size)))\n",
    "        # Step 5: Calculate t-values for rest of positions\n",
    "        counter2 = samp_size\n",
    "        mom_update_func = sandia_stats.m1_m2_moment_updater\n",
    "        for i in range(mom_minus_samp_size):\n",
    "            moments = mom_update_func(moments, diff_arr[i], diff_arr[counter2], samp_size)\n",
    "            counter2 += 1\n",
    "            t_values.append(abs(moments[0] / (moments[1]**0.5/samp_size)))\n",
    "        # Step 6: See if any t-values exceed the t-value threshold\n",
    "        index_of_mosaicism = next((i for i, elem in enumerate(t_values) if elem > t_thres), -1)\n",
    "        if index_of_mosaicism != -1:\n",
    "            # there is a t_value that exceeds the thresold, save the vcf position of the start\n",
    "            vcf_pos_start_of_mosaicism = vcf_pos[index_of_mosaicism + samp_size -1] if index_of_mosaicism != 0 else vcf_pos[0]\n",
    "            # figure out the end point of mosaicism\n",
    "            index_of_end_of_mosaicism = next((i+index_of_mosaicism+1 for i, elem in enumerate(t_values[index_of_mosaicism + 1:]) if elem < t_thres),len(t_values) - 1)\n",
    "            vcf_pos_end_of_mosaicism = vcf_pos[index_of_end_of_mosaicism + samp_size - 1] if index_of_end_of_mosaicism != len(t_values) - 1 else vcf_pos[-1]\n",
    "            return [vcf_pos_start_of_mosaicism, vcf_pos_end_of_mosaicism]\n",
    "        else:\n",
    "            return None\n",
    "\n",
    "    \n",
    "def runner(child, chr_name):\n",
    "    # step 1: filter the SNP df by chromosome name\n",
    "    chr_snp_df = helper_functions.chromsome_filter(child.SNP_df, chr_name)\n",
    "    # step 2: do phasing and return results\n",
    "    vcf_pos, maternal_rd, paternal_rd = child.phasable_snp_determiner(chr_snp_df)\n",
    "    results = sandia_t_test_snps(vcf_pos, maternal_rd, paternal_rd, samp_size=config_elem[\"SAMPLE_SIZE\"], t_thres=config_elem[\"T_THRES\"])\n",
    "    return results"
   ]
  },
  {
   "cell_type": "code",
   "execution_count": null,
   "metadata": {},
   "outputs": [],
   "source": [
    "# step 6: Generate results\n",
    "mosaicism_outcome = [runner(proband, chr_name) for chr_name in chromosome_list]"
   ]
  },
  {
   "cell_type": "code",
   "execution_count": null,
   "metadata": {},
   "outputs": [],
   "source": [
    "# step 7: write results to file\n",
    "with open(config_elem[\"OUTPUT_FILE\"], 'w') as output_file:\n",
    "    for i, elem in enumerate(mosaicism_outcome):\n",
    "        if elem is not None:\n",
    "            line = [\"There is mosaicism in chromosome\", str(chromosome_list[i]), \"starting at VCF position\", str(elem[0]), \"and ending at VCF position\", str(elem[1])]\n",
    "            output_file.write(\" \".join(line))\n",
    "            output_file.write(\"\\n\")"
   ]
  }
 ],
 "metadata": {
  "kernelspec": {
   "display_name": "Python 3",
   "language": "python",
   "name": "python3"
  },
  "language_info": {
   "codemirror_mode": {
    "name": "ipython",
    "version": 3
   },
   "file_extension": ".py",
   "mimetype": "text/x-python",
   "name": "python",
   "nbconvert_exporter": "python",
   "pygments_lexer": "ipython3",
   "version": "3.8.5"
  }
 },
 "nbformat": 4,
 "nbformat_minor": 4
}

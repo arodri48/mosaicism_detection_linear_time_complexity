{
 "cells": [
  {
   "cell_type": "code",
   "execution_count": 1,
   "metadata": {},
   "outputs": [],
   "source": [
    "from child import Child\n",
    "import helper_functions\n",
    "import matplotlib.pyplot as plt\n",
    "from scipy.stats import t\n",
    "%matplotlib inline"
   ]
  },
  {
   "cell_type": "code",
   "execution_count": 2,
   "metadata": {},
   "outputs": [],
   "source": [
    "# Step 0: Read config file\n",
    "config_file_path = 'phasing_config_file.txt'\n",
    "with open(config_file_path, 'r') as f:\n",
    "    config_elem = [line.strip().split('\\t')[1] for line in f]\n",
    "    \n",
    "#print(config_elem)"
   ]
  },
  {
   "cell_type": "code",
   "execution_count": 3,
   "metadata": {},
   "outputs": [],
   "source": [
    "# Step 1: Obtain names from ped file\n",
    "names = helper_functions.ped_file_reader(config_elem[0])"
   ]
  },
  {
   "cell_type": "code",
   "execution_count": null,
   "metadata": {},
   "outputs": [],
   "source": [
    "print(names)"
   ]
  },
  {
   "cell_type": "code",
   "execution_count": 4,
   "metadata": {},
   "outputs": [
    {
     "name": "stderr",
     "output_type": "stream",
     "text": [
      "C:\\Users\\rodriguezah\\Anaconda3\\lib\\site-packages\\IPython\\core\\interactiveshell.py:3338: DtypeWarning: Columns (0,5) have mixed types.Specify dtype option on import or set low_memory=False.\n",
      "  if (await self.run_code(code, result,  async_=asy)):\n"
     ]
    }
   ],
   "source": [
    "# Step 2: Read in the vcf file and get only SNP list\n",
    "df = helper_functions.read_VCF(config_elem[1], names)"
   ]
  },
  {
   "cell_type": "code",
   "execution_count": null,
   "metadata": {},
   "outputs": [],
   "source": [
    "df.tail()"
   ]
  },
  {
   "cell_type": "code",
   "execution_count": 5,
   "metadata": {},
   "outputs": [],
   "source": [
    "# Step 3: Filter by specific chromosome and chromosome quality\n",
    "chr7_df = helper_functions.filter_VCF_by_chr_and_SNP(df, 7)"
   ]
  },
  {
   "cell_type": "code",
   "execution_count": null,
   "metadata": {},
   "outputs": [],
   "source": [
    "chr7_df.head()"
   ]
  },
  {
   "cell_type": "code",
   "execution_count": 6,
   "metadata": {},
   "outputs": [],
   "source": [
    "# Step 4: Create list of children\n",
    "children = [Child(names[i], names[0], names[1]) for i in range(2, len(names))]"
   ]
  },
  {
   "cell_type": "code",
   "execution_count": 7,
   "metadata": {},
   "outputs": [],
   "source": [
    "# Step 5: Generate phasable SNP data for each child\n",
    "for elem in children:\n",
    "    elem.phasable_snp_determiner(chr7_df)"
   ]
  },
  {
   "cell_type": "code",
   "execution_count": null,
   "metadata": {},
   "outputs": [],
   "source": [
    "print(children[0].name)\n",
    "print(len(children[0].pos_arr))\n",
    "print(children[0].dad_rd_array.size)\n",
    "print(children[0].mom_rd_array.size)"
   ]
  },
  {
   "cell_type": "code",
   "execution_count": null,
   "metadata": {},
   "outputs": [],
   "source": [
    "# Do analysis for UDP18111\n",
    "window_sizes = [100, 500, 1000, 4000,10000, 16000,40000, 64000]\n",
    "for child in children:\n",
    "    for size in window_sizes:\n",
    "        child.t_test_snps(size)\n",
    "        # plot the data\n",
    "        plt.figure()\n",
    "        plt.plot(child.t_values)\n",
    "        # plt.hlines(t.ppf(0.95, size-1).item(), 0, len(children[0].t_values))\n",
    "        title = [child.name, \"for sample size\", str(size), \"with\", str(len(child.t_values)), \"iterations\"]\n",
    "        plt.title(\" \".join(title))\n",
    "        plt.ylabel('t-values')\n",
    "        plt.show()"
   ]
  },
  {
   "cell_type": "code",
   "execution_count": 8,
   "metadata": {},
   "outputs": [
    {
     "name": "stdout",
     "output_type": "stream",
     "text": [
      "Mosaicism has been detected in child UDP18111 with start and end points at VCF positions 147123281 and 159086440, respectively\n"
     ]
    }
   ],
   "source": [
    "# Step 6: Do sliding t-test for each child and see if possible mosaicism present\n",
    "for elem in children:\n",
    "    elem.t_test_snps(samp_size=10000)"
   ]
  },
  {
   "cell_type": "code",
   "execution_count": 11,
   "metadata": {},
   "outputs": [
    {
     "data": {
      "text/plain": [
       "[<matplotlib.lines.Line2D at 0x1fe5d182040>]"
      ]
     },
     "execution_count": 11,
     "metadata": {},
     "output_type": "execute_result"
    },
    {
     "data": {
      "image/png": "[encoded data removed]",
      "text/plain": [
       "<Figure size 432x288 with 1 Axes>"
      ]
     },
     "metadata": {
      "needs_background": "light"
     },
     "output_type": "display_data"
    }
   ],
   "source": [
    "diff_arr = children[0].dad_rd_array[children[0].index_diff_arr_start_of_mosaicism:children[0].index_diff_arr_end_of_mosaicism] - children[0].mom_rd_array[children[0].index_diff_arr_start_of_mosaicism:children[0].index_diff_arr_end_of_mosaicism]\n",
    "diff_arr = children[0].dad_rd_array - children[0].mom_rd_array\n",
    "plt.plot(diff_arr)"
   ]
  },
  {
   "cell_type": "code",
   "execution_count": null,
   "metadata": {},
   "outputs": [],
   "source": [
    "for elem in children:\n",
    "    print(elem.vcf_pos_start_of_mosaicism)"
   ]
  },
  {
   "cell_type": "code",
   "execution_count": null,
   "metadata": {},
   "outputs": [],
   "source": [
    "# Step 7: Check if a child is mosaic\n",
    "mosaic_child_present = False\n",
    "for elem in children:\n",
    "    if elem.vcf_pos_start_of_mosaicism != 0:\n",
    "        mosaic_child_present = True\n",
    "        elem.edge_detection(50, 100, 0.5)\n",
    "\n",
    "# if all clear, print out\n",
    "if not mosaic_child_present:\n",
    "    print(\"No child is mosaic\")\n",
    "else:\n",
    "    print(\"A child is mosaic\")"
   ]
  },
  {
   "cell_type": "code",
   "execution_count": null,
   "metadata": {},
   "outputs": [],
   "source": [
    "import matplotlib.pyplot as plt\n",
    "from scipy.stats import t\n",
    "%matplotlib inline"
   ]
  },
  {
   "cell_type": "code",
   "execution_count": null,
   "metadata": {},
   "outputs": [],
   "source": [
    "# Plot the t-values for UDP112828\n",
    "plt.plot(children[0].naive_t_values)\n",
    "plt.hlines(t.ppf(0.95, 10000-1).item(), 0, len(children[0].naive_t_values))\n",
    "plt.title(children[0].name + \" for sample size 10000\")\n",
    "plt.ylabel('t-values')"
   ]
  }
 ],
 "metadata": {
  "kernelspec": {
   "display_name": "Python 3",
   "language": "python",
   "name": "python3"
  },
  "language_info": {
   "codemirror_mode": {
    "name": "ipython",
    "version": 3
   },
   "file_extension": ".py",
   "mimetype": "text/x-python",
   "name": "python",
   "nbconvert_exporter": "python",
   "pygments_lexer": "ipython3",
   "version": "3.8.5"
  }
 },
 "nbformat": 4,
 "nbformat_minor": 4
}

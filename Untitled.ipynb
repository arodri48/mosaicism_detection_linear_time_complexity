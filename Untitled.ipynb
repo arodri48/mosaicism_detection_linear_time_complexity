{
 "cells": [
  {
   "cell_type": "code",
   "execution_count": 21,
   "metadata": {},
   "outputs": [
    {
     "name": "stdout",
     "output_type": "stream",
     "text": [
      "Mom Info:\n",
      "['A', 'B', 'B', 'A', 'A', 'B', 'B', 'B', 'A', 'A']\n",
      "[24 28 19 30 15 16 26 27 24 28]\n",
      "Dad Info:\n",
      "['B', 'B', 'A', 'A', 'B', 'A', 'B', 'A', 'B', 'B']\n",
      "[15 28 16 25 23 24 15 25 23 21]\n"
     ]
    }
   ],
   "source": [
    "import random\n",
    "import numpy as np\n",
    "# Step 1: Generate parent data that corresponds for the allele that they give to the proband\n",
    "random.seed(10)\n",
    "np.random.seed(10)\n",
    "length =10\n",
    "allele = ['A', 'B']\n",
    "mom = [random.choice(allele) for i in range(length)]\n",
    "dad = [random.choice(allele) for i in range(length)]\n",
    "mom_read = np.random.randint(15,31, size=length)\n",
    "dad_read = np.random.randint(15,31, size=length)\n",
    "print(\"Mom Info:\")\n",
    "print(mom)\n",
    "print(mom_read)\n",
    "print(\"Dad Info:\")\n",
    "print(dad)\n",
    "print(dad_read)"
   ]
  },
  {
   "cell_type": "code",
   "execution_count": 24,
   "metadata": {},
   "outputs": [
    {
     "name": "stdout",
     "output_type": "stream",
     "text": [
      "BAF:\n",
      "[0.38461538 1.         0.54285714 0.         0.60526316 0.4\n",
      " 1.         0.51923077 0.4893617  0.42857143]\n"
     ]
    }
   ],
   "source": [
    "# Step 2: Calculate the BAF of the child \n",
    "BAF = np.zeros(length)\n",
    "for i in range(length):\n",
    "    if (mom[i] == dad[i]):\n",
    "        # child is hom\n",
    "        if (mom[i] == 'A'):\n",
    "            BAF[i] = 0\n",
    "        else:\n",
    "            BAF[i] = 1\n",
    "    else:\n",
    "        # child is a het\n",
    "        if mom[i] == 'B':\n",
    "            BAF[i] = mom_read[i]/(mom_read[i] + dad_read[i])\n",
    "        else:\n",
    "            BAF[i] = dad_read[i]/(mom_read[i] + dad_read[i])\n",
    "\n",
    "print(\"BAF:\")            \n",
    "print(BAF)            "
   ]
  },
  {
   "cell_type": "code",
   "execution_count": null,
   "metadata": {},
   "outputs": [],
   "source": []
  }
 ],
 "metadata": {
  "kernelspec": {
   "display_name": "Python 3",
   "language": "python",
   "name": "python3"
  },
  "language_info": {
   "codemirror_mode": {
    "name": "ipython",
    "version": 3
   },
   "file_extension": ".py",
   "mimetype": "text/x-python",
   "name": "python",
   "nbconvert_exporter": "python",
   "pygments_lexer": "ipython3",
   "version": "3.7.9"
  }
 },
 "nbformat": 4,
 "nbformat_minor": 4
}

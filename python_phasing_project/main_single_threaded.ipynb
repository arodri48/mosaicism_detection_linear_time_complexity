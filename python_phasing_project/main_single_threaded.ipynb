{
 "cells": [
  {
   "cell_type": "code",
   "execution_count": 1,
   "metadata": {},
   "outputs": [],
   "source": [
    "from child import Child\n",
    "import helper_functions\n",
    "import sandia_stats\n",
    "import time\n",
    "from collections import Counter\n",
    "import numpy as np\n",
    "import matplotlib.pyplot as plt\n",
    "import phasing_functions\n",
    "from math import floor\n",
    "%matplotlib inline"
   ]
  },
  {
   "cell_type": "code",
   "execution_count": 31,
   "metadata": {},
   "outputs": [],
   "source": [
    "def sandia_t_test_snps(maternal_rd, paternal_rd, samp_size=10000, t_thres=25):\n",
    "    mom_minus_samp_size = maternal_rd.size - samp_size\n",
    "    if 0 > mom_minus_samp_size:\n",
    "        print(\"Sample size is larger than total number of data points\")\n",
    "        return None\n",
    "    else:\n",
    "        # Step 1: Allocate an array that will store the t\n",
    "        t_values = []\n",
    "        # Step 2: Generate difference array between mom and dad\n",
    "        diff_arr = (maternal_rd - paternal_rd).tolist()\n",
    "        # Step 3: Calculate initial moments\n",
    "        moments = sandia_stats.m1_m2_moment_generator(diff_arr[0:samp_size])\n",
    "        # Step 4: Calculate t-statistic for first window\n",
    "        t_values.append(abs(moments[0] / (moments[1] ** 0.5 / samp_size)))\n",
    "        # Step 5: Calculate t-values for rest of positions\n",
    "        counter2 = samp_size\n",
    "        mom_update_func = sandia_stats.m1_m2_moment_updater\n",
    "        for i in range(mom_minus_samp_size):\n",
    "            moments = mom_update_func(moments, diff_arr[i], diff_arr[counter2], samp_size)\n",
    "            counter2 += 1\n",
    "            t_values.append(abs(moments[0] / (moments[1] ** 0.5 / samp_size)))\n",
    "        # Step 6: See if any t-values exceed the t-value threshold\n",
    "        index_of_mosaicism = next((i for i, elem in enumerate(t_values) if elem > t_thres), -1)\n",
    "        if index_of_mosaicism != -1:\n",
    "            # there is a t_value that exceeds the thresold, save the vcf position of the start\n",
    "            index_start_of_mosaicism_vcf = index_of_mosaicism + samp_size - 1 if index_of_mosaicism != 0 else 0\n",
    "            #vcf_pos_start_of_mosaicism = vcf_pos[index_start_of_mosaicism_vcf]\n",
    "            # figure out the end point of mosaicism\n",
    "            index_of_end_of_mosaicism = next(\n",
    "                (i + index_of_mosaicism + 1 for i, elem in enumerate(t_values[index_of_mosaicism + 1:]) if\n",
    "                 elem < t_thres), len(t_values) - 1)\n",
    "            index_end_of_mosaicism_vcf = index_of_end_of_mosaicism + samp_size - 1\n",
    "            #index_end_of_mosaicism_vcf = index_of_end_of_mosaicism + samp_size - 1 if index_of_end_of_mosaicism != len(t_values) - 1 else -1\n",
    "            #vcf_pos_end_of_mosaicism = vcf_pos[index_end_of_mosaicism_vcf] \n",
    "            return [index_start_of_mosaicism_vcf, index_end_of_mosaicism_vcf]\n",
    "        else:\n",
    "            return None\n",
    "\n",
    "\n",
    "def phasable_snp_determiner(chr_df, proband_name, father_name, mother_name):\n",
    "    # first make temporary helper variables\n",
    "    pos_final = []\n",
    "    dad_rd_final = []\n",
    "    mom_rd_final = []\n",
    "    het_set = {\"0/1\", \"1/0\", \"1|0\", \"0|1\"}\n",
    "    # iterate through every row\n",
    "    for index, row in chr_df.iterrows():\n",
    "        child_info = row[proband_name].split(':', 3)\n",
    "        if child_info[0] in het_set:\n",
    "            child_read_depths = child_info[1].split(',')\n",
    "            child_rd_first = int(child_read_depths[0])\n",
    "            child_rd_second = int(child_read_depths[1])\n",
    "            if (4 < child_rd_first < 75) and (4 < child_rd_second < 75):\n",
    "                # proband is a het; need to check the parents and check at least one is homozygous and if they are\n",
    "                # both homozygous, not for same allele\n",
    "                mom_line_info = row[mother_name].split(':', 2)\n",
    "                dad_line_info = row[father_name].split(':', 2)\n",
    "                mom_geno_count = Counter(mom_line_info[0])\n",
    "                dad_geno_count = Counter(dad_line_info[0])\n",
    "                if not (dad_geno_count['.'] or mom_geno_count['.']):\n",
    "                    is_mom_hom_ref = 2 == mom_geno_count['0']\n",
    "                    is_dad_hom_ref = 2 == dad_geno_count['0']\n",
    "                    is_mom_hom_var = 2 == mom_geno_count['1']\n",
    "                    is_dad_hom_var = 2 == dad_geno_count['1']\n",
    "                    is_dad_het = 3 == len(dad_geno_count)\n",
    "                    is_mom_het = 3 == len(mom_geno_count)\n",
    "                    if not ((is_dad_het and is_mom_het) or\n",
    "                            (is_mom_hom_ref and is_dad_hom_ref) or (\n",
    "                                    is_mom_hom_var and is_dad_hom_var)):\n",
    "                        # save the position number and then the read depth for the child\n",
    "                        pos_final.append(row['POS'])\n",
    "                        # case 1: Dad is hom var and mom is hom ref\n",
    "                        if is_dad_hom_var and is_mom_hom_ref:\n",
    "                            if child_info[0][0] == '1':\n",
    "                                dad_rd_final.append(child_rd_first)\n",
    "                                mom_rd_final.append(child_rd_second)\n",
    "                            else:\n",
    "                                dad_rd_final.append(child_rd_second)\n",
    "                                mom_rd_final.append(child_rd_first)\n",
    "                        # case 2: mom is hom var and dad is hom ref\n",
    "                        elif is_mom_hom_var and is_dad_hom_ref:\n",
    "                            if child_info[0][0] == '1':\n",
    "                                dad_rd_final.append(child_rd_second)\n",
    "                                mom_rd_final.append(child_rd_first)\n",
    "                            else:\n",
    "                                dad_rd_final.append(child_rd_first)\n",
    "                                mom_rd_final.append(child_rd_second)\n",
    "                        # case 3: Dad is a het\n",
    "                        elif is_dad_het:\n",
    "                            # if mom is hom ref\n",
    "                            if is_mom_hom_ref:\n",
    "                                if child_info[0][0] == '0':\n",
    "                                    dad_rd_final.append(child_rd_second)\n",
    "                                    mom_rd_final.append(child_rd_first)\n",
    "                                else:\n",
    "                                    dad_rd_final.append(child_rd_first)\n",
    "                                    mom_rd_final.append(child_rd_second)\n",
    "                            # if mom is hom var\n",
    "                            else:\n",
    "                                if child_info[0][0] == '1':\n",
    "                                    dad_rd_final.append(child_rd_second)\n",
    "                                    mom_rd_final.append(child_rd_first)\n",
    "                                else:\n",
    "                                    dad_rd_final.append(child_rd_first)\n",
    "                                    mom_rd_final.append(child_rd_second)\n",
    "                        # case 4: Mom is a het\n",
    "                        else:\n",
    "                            # if dad is hom ref\n",
    "                            if is_dad_hom_ref:\n",
    "                                if child_info[0][0] == '0':\n",
    "                                    dad_rd_final.append(child_rd_first)\n",
    "                                    mom_rd_final.append(child_rd_second)\n",
    "                                else:\n",
    "                                    dad_rd_final.append(child_rd_second)\n",
    "                                    mom_rd_final.append(child_rd_first)\n",
    "                            # if dad is hom var\n",
    "                            else:\n",
    "                                if child_info[0][0] == '1':\n",
    "                                    dad_rd_final.append(child_rd_first)\n",
    "                                    mom_rd_final.append(child_rd_second)\n",
    "                                else:\n",
    "                                    dad_rd_final.append(child_rd_second)\n",
    "                                    mom_rd_final.append(child_rd_first)\n",
    "    return pos_final, np.array(mom_rd_final), np.array(dad_rd_final)\n",
    "\n",
    "\n",
    "def edge_detection(sample_size, estimated_start_index, estimated_end_index, paternal_rd_array, maternal_rd_array, vcf_pos):\n",
    "    estimated_interval_length = estimated_end_index - estimated_start_index\n",
    "    width_of_average = floor(estimated_interval_length / 2)\n",
    "    fourth_up = floor(estimated_interval_length / 4)\n",
    "    diff_arr = paternal_rd_array - maternal_rd_array\n",
    "    print(diff_arr.size)\n",
    "    height = diff_arr[estimated_start_index + fourth_up:estimated_start_index + fourth_up + width_of_average].mean()\n",
    "    filter_width_one_side = floor(0.05 * sample_size)\n",
    "    forward_filter = np.zeros(2 * filter_width_one_side)\n",
    "    forward_filter[filter_width_one_side:] = height\n",
    "    backward_filter = np.zeros(2 * filter_width_one_side)\n",
    "    backward_filter[:filter_width_one_side] = height\n",
    "\n",
    "    final_index = paternal_rd_array.size - 1\n",
    "    is_mosaicism_to_the_end = estimated_end_index == final_index\n",
    "    print('Final index is '+ str(final_index)+' and estimated_end_index is '+str(estimated_end_index))\n",
    "\n",
    "    if not estimated_start_index and is_mosaicism_to_the_end:\n",
    "        # estimated chromosome is mosaic\n",
    "        return [vcf_pos[0], vcf_pos[final_index], 0, final_index, height]\n",
    "    elif not (estimated_start_index or is_mosaicism_to_the_end):\n",
    "        center_index = estimated_end_index - floor(0.5 * sample_size)\n",
    "        filter_difference = [abs((diff_arr[\n",
    "                                  center_index - filter_width_one_side + i: center_index + filter_width_one_side + i] - backward_filter).sum(\n",
    "            dtype=float)) for i in range(sample_size)]\n",
    "        min_val = min(filter_difference)\n",
    "        return [vcf_pos[0], vcf_pos[center_index + filter_difference.index(min_val)], 0, center_index + filter_difference.index(min_val), height]\n",
    "    elif estimated_start_index and is_mosaicism_to_the_end:\n",
    "        center_index = estimated_start_index - floor(0.5 * sample_size)\n",
    "        filter_difference = [abs((diff_arr[\n",
    "                                  center_index - filter_width_one_side + i: center_index + filter_width_one_side + i] - forward_filter).sum(\n",
    "            dtype=float)) for i in range(sample_size)]\n",
    "        min_val = min(filter_difference)\n",
    "        return [vcf_pos[center_index + filter_difference.index(min_val)], vcf_pos[final_index], center_index + filter_difference.index(min_val), final_index, height]\n",
    "    else:\n",
    "        center_start_index = estimated_start_index - floor(0.5 * sample_size)\n",
    "        filter_start_difference = [abs((diff_arr[center_start_index - filter_width_one_side + i: center_start_index + filter_width_one_side + i] - forward_filter).sum(dtype=float)) for i in range(sample_size)]\n",
    "        min_start_val = min(filter_start_difference)\n",
    "\n",
    "        center_end_index = estimated_end_index - floor(0.5 * sample_size)\n",
    "        \n",
    "        \n",
    "        \n",
    "        filter_end_difference = [abs((diff_arr[center_end_index - filter_width_one_side + i:center_end_index + filter_width_one_side + i] - backward_filter).sum(dtype=float)) for i in range(sample_size)]\n",
    "        min_end_val = min(filter_end_difference)\n",
    "\n",
    "        return [vcf_pos[center_start_index + filter_start_difference.index(min_start_val)],vcf_pos[center_end_index + filter_end_difference.index(min_end_val)], center_start_index + filter_start_difference.index(min_start_val), center_end_index + filter_end_difference.index(min_end_val), height]\n",
    "\n",
    "\n",
    "def runner(child_name, father_name, mother_name, chr_name, sample_size, t_threshold, SNP_df):\n",
    "    # step 1: filter the SNP df by chromosome name\n",
    "    chr_snp_df = helper_functions.chromosome_filter(SNP_df, chr_name)\n",
    "    # step 2: do phasing and return results\n",
    "    vcf_pos, maternal_rd, paternal_rd = phasable_snp_determiner(chr_snp_df, child_name, father_name, mother_name)\n",
    "    mosaicism_initial_survey_results = sandia_t_test_snps(maternal_rd, paternal_rd, samp_size=sample_size, t_thres=t_threshold)\n",
    "    return edge_detection(sample_size, mosaicism_initial_survey_results[0], mosaicism_initial_survey_results[1], paternal_rd, maternal_rd, vcf_pos) if mosaicism_initial_survey_results is not None else None"
   ]
  },
  {
   "cell_type": "code",
   "execution_count": 3,
   "metadata": {},
   "outputs": [],
   "source": [
    "# Step 0: Read config file\n",
    "with open('phasing_config_file.txt', 'r') as f:\n",
    "    config_elem = {}\n",
    "    for line in f:\n",
    "        line_split = line.strip().split('\\t')\n",
    "        #print(line_split)\n",
    "        config_elem[line_split[0]] = line_split[1]"
   ]
  },
  {
   "cell_type": "code",
   "execution_count": 4,
   "metadata": {},
   "outputs": [
    {
     "name": "stdout",
     "output_type": "stream",
     "text": [
      "{'PED_FILE': 'C:\\\\Users\\\\rodriguezah\\\\Desktop\\\\mosaicism_phasing\\\\UDP18111.ped', 'VCF_FILE': 'C:\\\\Users\\\\rodriguezah\\\\Desktop\\\\mosaicism_phasing\\\\cohort_joint_genotyped_UDP18111.vcf', 'SAMPLE_SIZE': '10000', 'T_THRES': '35', 'OUTPUT_FILE': 'C:\\\\Users\\\\rodriguezah\\\\Desktop\\\\mosaicism_phasing\\\\UDP18111_results_threshold_35_sample_size_10000_step_function_edge_detection.txt', 'PROBAND_NAME': 'UDP18111'}\n"
     ]
    }
   ],
   "source": [
    "print(config_elem)"
   ]
  },
  {
   "cell_type": "code",
   "execution_count": 5,
   "metadata": {},
   "outputs": [],
   "source": [
    "# Step 1: Obtain names from ped file\n",
    "names = helper_functions.ped_file_reader(config_elem[\"PED_FILE\"])"
   ]
  },
  {
   "cell_type": "code",
   "execution_count": 6,
   "metadata": {},
   "outputs": [
    {
     "name": "stderr",
     "output_type": "stream",
     "text": [
      "C:\\Users\\rodriguezah\\Anaconda3\\lib\\site-packages\\IPython\\core\\interactiveshell.py:3338: DtypeWarning: Columns (0,5) have mixed types.Specify dtype option on import or set low_memory=False.\n",
      "  if (await self.run_code(code, result,  async_=asy)):\n"
     ]
    }
   ],
   "source": [
    "# Step 2: Read in the vcf file\n",
    "df = helper_functions.read_VCF(config_elem[\"VCF_FILE\"], names)"
   ]
  },
  {
   "cell_type": "code",
   "execution_count": 7,
   "metadata": {},
   "outputs": [],
   "source": [
    "# Step 3: obtain only high quality SNPs\n",
    "SNP_df = helper_functions.SNP_filter(df)"
   ]
  },
  {
   "cell_type": "code",
   "execution_count": 8,
   "metadata": {},
   "outputs": [],
   "source": [
    "# Step 4: Create child object for proband\n",
    "proband = Child(config_elem[\"PROBAND_NAME\"], names[0], names[1])"
   ]
  },
  {
   "cell_type": "code",
   "execution_count": null,
   "metadata": {},
   "outputs": [],
   "source": [
    "# step 5: Generate results\n",
    "start = time.time()\n",
    "mosaicism_outcome = [phasing_functions.runner(config_elem[\"PROBAND_NAME\"], names[0], names[1], chr_name, int(config_elem[\"SAMPLE_SIZE\"]), float(config_elem[\"T_THRES\"]), SNP_df) for chr_name in range(1,23)]\n",
    "end = time.time()\n",
    "print(str((end-start)/60) + \" minutes\")"
   ]
  },
  {
   "cell_type": "code",
   "execution_count": 9,
   "metadata": {},
   "outputs": [],
   "source": [
    "# testing purposes\n",
    "# step 1: filter the SNP df by chromosome name\n",
    "chr_snp_df = helper_functions.chromosome_filter(SNP_df, 7)\n",
    "# step 2: do phasing and return results\n",
    "vcf_pos, maternal_rd, paternal_rd = phasable_snp_determiner(chr_snp_df, proband.name, proband.father_name, proband.mother_name)"
   ]
  },
  {
   "cell_type": "code",
   "execution_count": 10,
   "metadata": {},
   "outputs": [],
   "source": [
    "mosaicism_initial_survey_results = sandia_t_test_snps(maternal_rd, paternal_rd, samp_size=int(config_elem[\"SAMPLE_SIZE\"]), t_thres=float(config_elem[\"T_THRES\"]))"
   ]
  },
  {
   "cell_type": "code",
   "execution_count": 32,
   "metadata": {},
   "outputs": [
    {
     "name": "stdout",
     "output_type": "stream",
     "text": [
      "107148\n",
      "Final index is 107147 and estimated_end_index is 107147\n"
     ]
    }
   ],
   "source": [
    "if mosaicism_initial_survey_results is not None:\n",
    "    final_results = edge_detection(int(config_elem[\"SAMPLE_SIZE\"]), mosaicism_initial_survey_results[0], mosaicism_initial_survey_results[1], paternal_rd, maternal_rd, vcf_pos)"
   ]
  },
  {
   "cell_type": "code",
   "execution_count": 33,
   "metadata": {},
   "outputs": [
    {
     "name": "stdout",
     "output_type": "stream",
     "text": [
      "[141529611, 159086440, 95301, 107147, -12.579831932773109]\n"
     ]
    }
   ],
   "source": [
    "print(final_results)"
   ]
  },
  {
   "cell_type": "code",
   "execution_count": 34,
   "metadata": {},
   "outputs": [],
   "source": [
    "diff_arr =  paternal_rd - maternal_rd"
   ]
  },
  {
   "cell_type": "code",
   "execution_count": 35,
   "metadata": {},
   "outputs": [
    {
     "name": "stdout",
     "output_type": "stream",
     "text": [
      "107148\n"
     ]
    }
   ],
   "source": [
    "print(diff_arr.size)"
   ]
  },
  {
   "cell_type": "code",
   "execution_count": 41,
   "metadata": {},
   "outputs": [
    {
     "data": {
      "text/plain": [
       "<matplotlib.lines.Line2D at 0x2724ef48580>"
      ]
     },
     "execution_count": 41,
     "metadata": {},
     "output_type": "execute_result"
    },
    {
     "data": {
      "image/png": "[encoded data removed]",
      "text/plain": [
       "<Figure size 432x288 with 1 Axes>"
      ]
     },
     "metadata": {
      "needs_background": "light"
     },
     "output_type": "display_data"
    }
   ],
   "source": [
    "plt.plot(diff_arr[final_results[2]:final_results[3]])\n",
    "plt.axhline(final_results[4], color='r')"
   ]
  },
  {
   "cell_type": "code",
   "execution_count": null,
   "metadata": {},
   "outputs": [],
   "source": []
  },
  {
   "cell_type": "code",
   "execution_count": null,
   "metadata": {},
   "outputs": [],
   "source": [
    "# step 6: write results to file\n",
    "with open(config_elem[\"OUTPUT_FILE\"], 'w') as output_file:\n",
    "    output_file.write(\" \".join([\"Mosaicism results for\", proband.name]))\n",
    "    output_file.write(\"\\n\")\n",
    "    output_file.write(\"\\t\".join([\"chr_number\", \"VCF_start\", \"VCF_end\"]))\n",
    "    output_file.write(\"\\n\")\n",
    "    for i, elem in enumerate(mosaicism_outcome):\n",
    "        if elem is not None:\n",
    "            output_file.write(\"\\t\".join([str(i + 1), str(elem[0]), str(elem[1])]))\n",
    "            output_file.write(\"\\n\")"
   ]
  },
  {
   "cell_type": "code",
   "execution_count": null,
   "metadata": {},
   "outputs": [],
   "source": [
    "# Verify results \n",
    "proband.phasable_snp_determiner(helper_functions.chromosome_filter(SNP_df, 7))\n",
    "proband.t_test_snps(samp_size=int(config_elem[\"SAMPLE_SIZE\"]), t_thres=float(config_elem[\"T_THRES\"]))\n"
   ]
  },
  {
   "cell_type": "code",
   "execution_count": null,
   "metadata": {},
   "outputs": [],
   "source": [
    "diff_arr = proband.dad_rd_array - proband.mom_rd_array\n",
    "plt.plot(diff_arr)"
   ]
  },
  {
   "cell_type": "code",
   "execution_count": null,
   "metadata": {},
   "outputs": [],
   "source": [
    "plt.plot(diff_arr[proband.index_diff_arr_start_of_mosaicism-3500:proband.index_diff_arr_end_of_mosaicism + 100000])"
   ]
  },
  {
   "cell_type": "code",
   "execution_count": null,
   "metadata": {},
   "outputs": [],
   "source": [
    "proband.phasable_snp_determiner(helper_functions.chromosome_filter(SNP_df, 16))\n",
    "proband.t_test_snps(samp_size=int(config_elem[\"SAMPLE_SIZE\"]), t_thres=float(config_elem[\"T_THRES\"]))"
   ]
  },
  {
   "cell_type": "code",
   "execution_count": null,
   "metadata": {},
   "outputs": [],
   "source": [
    "diff_arr = proband.dad_rd_array - proband.mom_rd_array\n",
    "plt.plot(diff_arr)"
   ]
  },
  {
   "cell_type": "code",
   "execution_count": null,
   "metadata": {},
   "outputs": [],
   "source": [
    "plt.plot(diff_arr[proband.index_diff_arr_start_of_mosaicism:proband.index_diff_arr_end_of_mosaicism])\n",
    "print(proband.index_diff_arr_start_of_mosaicism)\n",
    "print(proband.index_diff_arr_end_of_mosaicism)"
   ]
  },
  {
   "cell_type": "code",
   "execution_count": null,
   "metadata": {},
   "outputs": [],
   "source": [
    "plt.plot(proband.t_values)"
   ]
  },
  {
   "cell_type": "code",
   "execution_count": null,
   "metadata": {},
   "outputs": [],
   "source": []
  }
 ],
 "metadata": {
  "kernelspec": {
   "display_name": "Python 3",
   "language": "python",
   "name": "python3"
  },
  "language_info": {
   "codemirror_mode": {
    "name": "ipython",
    "version": 3
   },
   "file_extension": ".py",
   "mimetype": "text/x-python",
   "name": "python",
   "nbconvert_exporter": "python",
   "pygments_lexer": "ipython3",
   "version": "3.8.5"
  }
 },
 "nbformat": 4,
 "nbformat_minor": 4
}

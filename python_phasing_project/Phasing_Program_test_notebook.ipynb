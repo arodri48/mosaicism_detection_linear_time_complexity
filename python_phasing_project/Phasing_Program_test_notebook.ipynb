{
 "cells": [
  {
   "cell_type": "code",
   "execution_count": 1,
   "metadata": {},
   "outputs": [],
   "source": [
    "from child import Child\n",
    "import helper_functions"
   ]
  },
  {
   "cell_type": "code",
   "execution_count": 6,
   "metadata": {},
   "outputs": [
    {
     "name": "stdout",
     "output_type": "stream",
     "text": [
      "['heh.ped', 'heh.vcf']\n"
     ]
    }
   ],
   "source": [
    "# Step 0: Read config file\n",
    "config_file_path = 'phasing_config_file.txt'\n",
    "with open(config_file_path, 'r') as f:\n",
    "    config_elem = [line.strip().split('\\t')[1] for line in f]\n",
    "    \n",
    "print(config_elem)"
   ]
  },
  {
   "cell_type": "code",
   "execution_count": null,
   "metadata": {},
   "outputs": [],
   "source": [
    "# Step 1: Obtain names from ped file\n",
    "names = helper_functions.ped_file_reader(config_elem[0])"
   ]
  },
  {
   "cell_type": "code",
   "execution_count": null,
   "metadata": {},
   "outputs": [],
   "source": [
    "# Step 2: Read in the vcf file\n",
    "df = helper_functions.read_VCF(config_elem[1], names)"
   ]
  },
  {
   "cell_type": "code",
   "execution_count": null,
   "metadata": {},
   "outputs": [],
   "source": [
    "# Step 3: Filter by specific chromosome and obtain only SNPs\n",
    "chr7_df = helper_functions.filter_VCF_by_chr_and_SNP(df, 7)"
   ]
  },
  {
   "cell_type": "code",
   "execution_count": null,
   "metadata": {},
   "outputs": [],
   "source": [
    "# Step 4: Create list of children\n",
    "    children = [Child(names[i], names[0], names[1]) for i in range(2, len(names))]"
   ]
  },
  {
   "cell_type": "code",
   "execution_count": null,
   "metadata": {},
   "outputs": [],
   "source": [
    "# Step 5: Generate phasable SNP data for each child\n",
    "    for elem in children:\n",
    "        elem.phasable_snp_determiner(chr7_df)"
   ]
  },
  {
   "cell_type": "code",
   "execution_count": null,
   "metadata": {},
   "outputs": [],
   "source": [
    "# Step 6: Do sliding t-test for each child and see if possible mosaicism present\n",
    "    for elem in children:\n",
    "        elem.t_test_snps(10)"
   ]
  },
  {
   "cell_type": "code",
   "execution_count": null,
   "metadata": {},
   "outputs": [],
   "source": [
    "# Step 7: Check if a child is mosaic\n",
    "    mosaic_child_present = False\n",
    "    for elem in children:\n",
    "        if elem.est_start_of_mosaicism != 0:\n",
    "            mosaic_child_present = True\n",
    "            elem.edge_detection(50, 100, 0.5)\n",
    "\n",
    "    # if all clear, print out\n",
    "    if not mosaic_child_present:\n",
    "        print(\"No child is mosaic\")"
   ]
  }
 ],
 "metadata": {
  "kernelspec": {
   "display_name": "Python 3",
   "language": "python",
   "name": "python3"
  },
  "language_info": {
   "codemirror_mode": {
    "name": "ipython",
    "version": 3
   },
   "file_extension": ".py",
   "mimetype": "text/x-python",
   "name": "python",
   "nbconvert_exporter": "python",
   "pygments_lexer": "ipython3",
   "version": "3.8.5"
  }
 },
 "nbformat": 4,
 "nbformat_minor": 4
}

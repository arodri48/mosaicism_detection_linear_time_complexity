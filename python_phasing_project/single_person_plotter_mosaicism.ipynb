{
 "cells": [
  {
   "cell_type": "code",
   "execution_count": 17,
   "metadata": {},
   "outputs": [],
   "source": [
    "import helper_functions\n",
    "import sandia_stats\n",
    "import time\n",
    "from collections import Counter\n",
    "import numpy as np\n",
    "import matplotlib.pyplot as plt\n",
    "import phasing_functions\n",
    "from math import floor\n",
    "%matplotlib inline"
   ]
  },
  {
   "cell_type": "code",
   "execution_count": 18,
   "metadata": {},
   "outputs": [],
   "source": [
    "# Generate individual plots for a person for a specific chromsome\n",
    "chr_num = 7\n"
   ]
  },
  {
   "cell_type": "code",
   "execution_count": 22,
   "metadata": {},
   "outputs": [],
   "source": [
    "# Step 0: Read config file\n",
    "with open('phasing_config_file.txt', 'r') as f:\n",
    "    config_elem = {}\n",
    "    for line in f:\n",
    "        line_split = line.strip().split('\\t')\n",
    "        #print(line_split)\n",
    "        config_elem[line_split[0]] = line_split[1]\n"
   ]
  },
  {
   "cell_type": "code",
   "execution_count": 4,
   "metadata": {},
   "outputs": [],
   "source": [
    "# Step 1: Obtain names from ped file\n",
    "names = helper_functions.ped_file_reader(config_elem[\"PED_FILE\"])"
   ]
  },
  {
   "cell_type": "code",
   "execution_count": 5,
   "metadata": {},
   "outputs": [
    {
     "name": "stderr",
     "output_type": "stream",
     "text": [
      "C:\\Users\\rodriguezah\\Anaconda3\\lib\\site-packages\\IPython\\core\\interactiveshell.py:3338: DtypeWarning: Columns (0,5) have mixed types.Specify dtype option on import or set low_memory=False.\n",
      "  if (await self.run_code(code, result,  async_=asy)):\n"
     ]
    }
   ],
   "source": [
    "# Step 2: Read in the vcf file\n",
    "df = helper_functions.read_VCF(config_elem[\"VCF_FILE\"], names)"
   ]
  },
  {
   "cell_type": "code",
   "execution_count": 6,
   "metadata": {},
   "outputs": [],
   "source": [
    "# Step 3: obtain only SNPs\n",
    "SNP_df = helper_functions.SNP_filter(df)"
   ]
  },
  {
   "cell_type": "code",
   "execution_count": 7,
   "metadata": {},
   "outputs": [],
   "source": [
    "snp_chr_dict = dict(tuple(SNP_df.groupby([\"#CHROM\"])))"
   ]
  },
  {
   "cell_type": "code",
   "execution_count": null,
   "metadata": {},
   "outputs": [],
   "source": [
    "#print(snp_chr_dict[7])"
   ]
  },
  {
   "cell_type": "code",
   "execution_count": null,
   "metadata": {},
   "outputs": [],
   "source": [
    "# Step 5: Do phasing\n",
    "vcf_pos, maternal_rd, paternal_rd = phasing_functions.phasable_snp_determiner(snp_chr_dict[chr_num], config_elem[\"PROBAND_NAME\"], names[0], names[1])"
   ]
  },
  {
   "cell_type": "code",
   "execution_count": null,
   "metadata": {},
   "outputs": [],
   "source": [
    "# Generate difference array\n",
    "diff_arr = maternal_rd - paternal_rd"
   ]
  },
  {
   "cell_type": "code",
   "execution_count": null,
   "metadata": {},
   "outputs": [],
   "source": [
    "plt.plot(diff_arr)\n",
    "plt.xlabel(\"Number of Phasable SNPs\")\n",
    "plt.ylabel(\"Diff between Mat and Pat RD\")\n",
    "plt.title(\"Read Depth Difference in Phasable SNPS of \" + config_elem[\"PROBAND_NAME\"] + \" on Chr \" + str(chr_num))"
   ]
  },
  {
   "cell_type": "code",
   "execution_count": null,
   "metadata": {},
   "outputs": [],
   "source": [
    "outcome_chr_7 = phasing_functions.runner(config_elem[\"PROBAND_NAME\"], names[0], names[1],\n",
    "                                                  int(config_elem[\"SAMPLE_SIZE\"]), float(config_elem[\"T_THRES\"]),\n",
    "                                                  snp_chr_dict[chr_num], float(config_elem[\"EDGE_DETECTION_WIDTH\"]))"
   ]
  },
  {
   "cell_type": "code",
   "execution_count": null,
   "metadata": {},
   "outputs": [],
   "source": [
    "print(outcome_chr_7)"
   ]
  },
  {
   "cell_type": "code",
   "execution_count": null,
   "metadata": {},
   "outputs": [],
   "source": [
    "step_function = np.zeros(800)\n",
    "step_function[400:] = -1 * outcome_chr_7[4]\n",
    "plt.plot(diff_arr[outcome_chr_7[2]-400:outcome_chr_7[2] + 400])\n",
    "plt.plot(step_function, color='r')\n",
    "plt.xlabel(\"Number of Phasable SNPs\")\n",
    "plt.ylabel(\"Diff between Mat and Pat RD\")\n",
    "plt.title(\"Read Depth Difference centered on detected left edge of mosaicism\")"
   ]
  },
  {
   "cell_type": "code",
   "execution_count": 23,
   "metadata": {},
   "outputs": [],
   "source": [
    "t_vals_chr_7 = phasing_functions.t_test_runner(config_elem[\"PROBAND_NAME\"], names[0], names[1],int(config_elem[\"SAMPLE_SIZE\"]), snp_chr_dict[chr_num])"
   ]
  },
  {
   "cell_type": "code",
   "execution_count": 24,
   "metadata": {},
   "outputs": [
    {
     "data": {
      "text/plain": [
       "(0.0, 160.0)"
      ]
     },
     "execution_count": 24,
     "metadata": {},
     "output_type": "execute_result"
    },
    {
     "data": {
      "image/png": "[encoded data removed]",
      "text/plain": [
       "<Figure size 432x288 with 1 Axes>"
      ]
     },
     "metadata": {
      "needs_background": "light"
     },
     "output_type": "display_data"
    }
   ],
   "source": [
    "plt.plot(t_vals_chr_7)\n",
    "plt.xlabel(\"Window Iteration\")\n",
    "plt.ylabel(\"t-value\")\n",
    "plt.title(\"Sliding Window t-values for \"+config_elem[\"PROBAND_NAME\"]+ \" w/ window size \" + config_elem[\"SAMPLE_SIZE\"])\n",
    "plt.ylim(0,160)"
   ]
  },
  {
   "cell_type": "code",
   "execution_count": null,
   "metadata": {},
   "outputs": [],
   "source": []
  }
 ],
 "metadata": {
  "kernelspec": {
   "display_name": "Python 3",
   "language": "python",
   "name": "python3"
  },
  "language_info": {
   "codemirror_mode": {
    "name": "ipython",
    "version": 3
   },
   "file_extension": ".py",
   "mimetype": "text/x-python",
   "name": "python",
   "nbconvert_exporter": "python",
   "pygments_lexer": "ipython3",
   "version": "3.8.5"
  }
 },
 "nbformat": 4,
 "nbformat_minor": 4
}

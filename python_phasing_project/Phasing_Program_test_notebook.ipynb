{
 "cells": [
  {
   "cell_type": "code",
   "execution_count": 1,
   "metadata": {},
   "outputs": [],
   "source": [
    "from child import Child\n",
    "import helper_functions"
   ]
  },
  {
   "cell_type": "code",
   "execution_count": 2,
   "metadata": {},
   "outputs": [],
   "source": [
    "# Step 0: Read config file\n",
    "config_file_path = 'phasing_config_file.txt'\n",
    "with open(config_file_path, 'r') as f:\n",
    "    config_elem = [line.strip().split('\\t')[1] for line in f]\n",
    "    \n",
    "#print(config_elem)"
   ]
  },
  {
   "cell_type": "code",
   "execution_count": 3,
   "metadata": {},
   "outputs": [],
   "source": [
    "# Step 1: Obtain names from ped file\n",
    "names = helper_functions.ped_file_reader(config_elem[0])"
   ]
  },
  {
   "cell_type": "code",
   "execution_count": 4,
   "metadata": {},
   "outputs": [
    {
     "name": "stdout",
     "output_type": "stream",
     "text": [
      "['UDP18144', 'UDP18145', 'UDP18111', 'UDP18143', 'UDP18142']\n"
     ]
    }
   ],
   "source": [
    "print(names)"
   ]
  },
  {
   "cell_type": "code",
   "execution_count": 5,
   "metadata": {},
   "outputs": [
    {
     "name": "stderr",
     "output_type": "stream",
     "text": [
      "C:\\Users\\rodriguezah\\Anaconda3\\lib\\site-packages\\IPython\\core\\interactiveshell.py:3338: DtypeWarning: Columns (0,5) have mixed types.Specify dtype option on import or set low_memory=False.\n",
      "  if (await self.run_code(code, result,  async_=asy)):\n"
     ]
    }
   ],
   "source": [
    "# Step 2: Read in the vcf file and get only SNP list\n",
    "df = helper_functions.read_VCF(config_elem[1], names)"
   ]
  },
  {
   "cell_type": "code",
   "execution_count": 6,
   "metadata": {},
   "outputs": [
    {
     "data": {
      "text/html": [
       "<div>\n",
       "<style scoped>\n",
       "    .dataframe tbody tr th:only-of-type {\n",
       "        vertical-align: middle;\n",
       "    }\n",
       "\n",
       "    .dataframe tbody tr th {\n",
       "        vertical-align: top;\n",
       "    }\n",
       "\n",
       "    .dataframe thead th {\n",
       "        text-align: right;\n",
       "    }\n",
       "</style>\n",
       "<table border=\"1\" class=\"dataframe\">\n",
       "  <thead>\n",
       "    <tr style=\"text-align: right;\">\n",
       "      <th></th>\n",
       "      <th>#CHROM</th>\n",
       "      <th>POS</th>\n",
       "      <th>ID</th>\n",
       "      <th>REF</th>\n",
       "      <th>ALT</th>\n",
       "      <th>QUAL</th>\n",
       "      <th>FILTER</th>\n",
       "      <th>INFO</th>\n",
       "      <th>FORMAT</th>\n",
       "      <th>UDP18111</th>\n",
       "      <th>UDP18142</th>\n",
       "      <th>UDP18143</th>\n",
       "      <th>UDP18144</th>\n",
       "      <th>UDP18145</th>\n",
       "    </tr>\n",
       "  </thead>\n",
       "  <tbody>\n",
       "    <tr>\n",
       "      <th>6602304</th>\n",
       "      <td>MT</td>\n",
       "      <td>16270</td>\n",
       "      <td>.</td>\n",
       "      <td>C</td>\n",
       "      <td>T</td>\n",
       "      <td>NaN</td>\n",
       "      <td>.</td>\n",
       "      <td>DP=15153;MQ=58.10</td>\n",
       "      <td>GT:AD:AF:DP:FT:LOD:F1R2:F2R1:PS</td>\n",
       "      <td>0/0:3405,92:0.026:2712:PASS:.:.:.:.</td>\n",
       "      <td>0/0:4358,128:0.029:3388:PASS:.:.:.:.</td>\n",
       "      <td>0/0:3950,86:0.021:3448:PASS:.:.:.:.</td>\n",
       "      <td>0|1:0,2580:1.000:2580:PASS:10097.59:0,1201:0,1...</td>\n",
       "      <td>0/0:3265,43:0.013:2636:PASS:.:.:.:.</td>\n",
       "    </tr>\n",
       "    <tr>\n",
       "      <th>6602305</th>\n",
       "      <td>MT</td>\n",
       "      <td>16291</td>\n",
       "      <td>.</td>\n",
       "      <td>C</td>\n",
       "      <td>T</td>\n",
       "      <td>NaN</td>\n",
       "      <td>.</td>\n",
       "      <td>DP=15104;MQ=59.07</td>\n",
       "      <td>GT:AD:AF:DP:FT:LOD:F1R2:F2R1:PS</td>\n",
       "      <td>0/0:3405,92:0.026:2712:PASS:.:.:.:.</td>\n",
       "      <td>0/0:4358,128:0.029:3388:PASS:.:.:.:.</td>\n",
       "      <td>0/0:3950,86:0.021:3448:PASS:.:.:.:.</td>\n",
       "      <td>0/0:2326,202:0.080:2528:LowGQ:.:.:.:.</td>\n",
       "      <td>0|1:2335,7:0.003:2342:PASS:8.61:1141,3:1194,4:...</td>\n",
       "    </tr>\n",
       "    <tr>\n",
       "      <th>6602306</th>\n",
       "      <td>MT</td>\n",
       "      <td>16293</td>\n",
       "      <td>.</td>\n",
       "      <td>A</td>\n",
       "      <td>G</td>\n",
       "      <td>NaN</td>\n",
       "      <td>.</td>\n",
       "      <td>DP=14775;MQ=58.49</td>\n",
       "      <td>GT:AD:AF:DP:FT:LOD:F1R2:F2R1</td>\n",
       "      <td>0/0:3405,92:0.026:2712:PASS:.:.:.</td>\n",
       "      <td>0/0:4358,128:0.029:3388:PASS:.:.:.</td>\n",
       "      <td>0/0:3950,86:0.021:3448:PASS:.:.:.</td>\n",
       "      <td>0/1:2195,6:0.003:2201:PASS:6.68:1051,5:1144,1</td>\n",
       "      <td>0/0:2516,138:0.052:2596:PASS:.:.:.</td>\n",
       "    </tr>\n",
       "    <tr>\n",
       "      <th>6602307</th>\n",
       "      <td>MT</td>\n",
       "      <td>16298</td>\n",
       "      <td>.</td>\n",
       "      <td>T</td>\n",
       "      <td>C</td>\n",
       "      <td>NaN</td>\n",
       "      <td>.</td>\n",
       "      <td>DP=15734;MQ=59.22</td>\n",
       "      <td>GT:AD:AF:DP:FT:LOD:F1R2:F2R1:PS</td>\n",
       "      <td>0/1:2,2262:0.999:2264:PASS:9173.87:1,1097:1,11...</td>\n",
       "      <td>0/1:7,3022:0.998:3029:PASS:12235.42:5,1537:2,1...</td>\n",
       "      <td>0/1:3,3116:0.999:3119:PASS:12601.79:2,1560:1,1...</td>\n",
       "      <td>0/0:2215,234:0.096:2449:LowGQ:.:.:.:.</td>\n",
       "      <td>0|1:2,2287:0.999:2289:PASS:9290.33:0,1111:2,11...</td>\n",
       "    </tr>\n",
       "    <tr>\n",
       "      <th>6602308</th>\n",
       "      <td>MT</td>\n",
       "      <td>16365</td>\n",
       "      <td>.</td>\n",
       "      <td>C</td>\n",
       "      <td>T</td>\n",
       "      <td>NaN</td>\n",
       "      <td>.</td>\n",
       "      <td>DP=13671;MQ=58.38</td>\n",
       "      <td>GT:AD:AF:DP:FT:LOD:F1R2:F2R1</td>\n",
       "      <td>0/0:2451,178:0.068:2618:PASS:.:.:.</td>\n",
       "      <td>0/0:3010,201:0.063:3199:PASS:.:.:.</td>\n",
       "      <td>0/0:3057,220:0.067:3267:PASS:.:.:.</td>\n",
       "      <td>0/1:1827,4:0.002:1831:lod_fstar:4.38:845,3:982,1</td>\n",
       "      <td>0/0:2145,131:0.058:2261:PASS:.:.:.</td>\n",
       "    </tr>\n",
       "  </tbody>\n",
       "</table>\n",
       "</div>"
      ],
      "text/plain": [
       "        #CHROM    POS ID REF ALT  QUAL FILTER               INFO  \\\n",
       "6602304     MT  16270  .   C   T   NaN      .  DP=15153;MQ=58.10   \n",
       "6602305     MT  16291  .   C   T   NaN      .  DP=15104;MQ=59.07   \n",
       "6602306     MT  16293  .   A   G   NaN      .  DP=14775;MQ=58.49   \n",
       "6602307     MT  16298  .   T   C   NaN      .  DP=15734;MQ=59.22   \n",
       "6602308     MT  16365  .   C   T   NaN      .  DP=13671;MQ=58.38   \n",
       "\n",
       "                                  FORMAT  \\\n",
       "6602304  GT:AD:AF:DP:FT:LOD:F1R2:F2R1:PS   \n",
       "6602305  GT:AD:AF:DP:FT:LOD:F1R2:F2R1:PS   \n",
       "6602306     GT:AD:AF:DP:FT:LOD:F1R2:F2R1   \n",
       "6602307  GT:AD:AF:DP:FT:LOD:F1R2:F2R1:PS   \n",
       "6602308     GT:AD:AF:DP:FT:LOD:F1R2:F2R1   \n",
       "\n",
       "                                                  UDP18111  \\\n",
       "6602304                0/0:3405,92:0.026:2712:PASS:.:.:.:.   \n",
       "6602305                0/0:3405,92:0.026:2712:PASS:.:.:.:.   \n",
       "6602306                  0/0:3405,92:0.026:2712:PASS:.:.:.   \n",
       "6602307  0/1:2,2262:0.999:2264:PASS:9173.87:1,1097:1,11...   \n",
       "6602308                 0/0:2451,178:0.068:2618:PASS:.:.:.   \n",
       "\n",
       "                                                  UDP18142  \\\n",
       "6602304               0/0:4358,128:0.029:3388:PASS:.:.:.:.   \n",
       "6602305               0/0:4358,128:0.029:3388:PASS:.:.:.:.   \n",
       "6602306                 0/0:4358,128:0.029:3388:PASS:.:.:.   \n",
       "6602307  0/1:7,3022:0.998:3029:PASS:12235.42:5,1537:2,1...   \n",
       "6602308                 0/0:3010,201:0.063:3199:PASS:.:.:.   \n",
       "\n",
       "                                                  UDP18143  \\\n",
       "6602304                0/0:3950,86:0.021:3448:PASS:.:.:.:.   \n",
       "6602305                0/0:3950,86:0.021:3448:PASS:.:.:.:.   \n",
       "6602306                  0/0:3950,86:0.021:3448:PASS:.:.:.   \n",
       "6602307  0/1:3,3116:0.999:3119:PASS:12601.79:2,1560:1,1...   \n",
       "6602308                 0/0:3057,220:0.067:3267:PASS:.:.:.   \n",
       "\n",
       "                                                  UDP18144  \\\n",
       "6602304  0|1:0,2580:1.000:2580:PASS:10097.59:0,1201:0,1...   \n",
       "6602305              0/0:2326,202:0.080:2528:LowGQ:.:.:.:.   \n",
       "6602306      0/1:2195,6:0.003:2201:PASS:6.68:1051,5:1144,1   \n",
       "6602307              0/0:2215,234:0.096:2449:LowGQ:.:.:.:.   \n",
       "6602308   0/1:1827,4:0.002:1831:lod_fstar:4.38:845,3:982,1   \n",
       "\n",
       "                                                  UDP18145  \n",
       "6602304                0/0:3265,43:0.013:2636:PASS:.:.:.:.  \n",
       "6602305  0|1:2335,7:0.003:2342:PASS:8.61:1141,3:1194,4:...  \n",
       "6602306                 0/0:2516,138:0.052:2596:PASS:.:.:.  \n",
       "6602307  0|1:2,2287:0.999:2289:PASS:9290.33:0,1111:2,11...  \n",
       "6602308                 0/0:2145,131:0.058:2261:PASS:.:.:.  "
      ]
     },
     "execution_count": 6,
     "metadata": {},
     "output_type": "execute_result"
    }
   ],
   "source": [
    "df.tail()"
   ]
  },
  {
   "cell_type": "code",
   "execution_count": 7,
   "metadata": {},
   "outputs": [],
   "source": [
    "# Step 3: Filter by specific chromosome and chromosome quality\n",
    "chr7_df = helper_functions.filter_VCF_by_chr_and_SNP(df, 7)"
   ]
  },
  {
   "cell_type": "code",
   "execution_count": 8,
   "metadata": {},
   "outputs": [
    {
     "data": {
      "text/html": [
       "<div>\n",
       "<style scoped>\n",
       "    .dataframe tbody tr th:only-of-type {\n",
       "        vertical-align: middle;\n",
       "    }\n",
       "\n",
       "    .dataframe tbody tr th {\n",
       "        vertical-align: top;\n",
       "    }\n",
       "\n",
       "    .dataframe thead th {\n",
       "        text-align: right;\n",
       "    }\n",
       "</style>\n",
       "<table border=\"1\" class=\"dataframe\">\n",
       "  <thead>\n",
       "    <tr style=\"text-align: right;\">\n",
       "      <th></th>\n",
       "      <th>#CHROM</th>\n",
       "      <th>POS</th>\n",
       "      <th>ID</th>\n",
       "      <th>REF</th>\n",
       "      <th>ALT</th>\n",
       "      <th>QUAL</th>\n",
       "      <th>FILTER</th>\n",
       "      <th>INFO</th>\n",
       "      <th>FORMAT</th>\n",
       "      <th>UDP18111</th>\n",
       "      <th>UDP18142</th>\n",
       "      <th>UDP18143</th>\n",
       "      <th>UDP18144</th>\n",
       "      <th>UDP18145</th>\n",
       "    </tr>\n",
       "  </thead>\n",
       "  <tbody>\n",
       "    <tr>\n",
       "      <th>0</th>\n",
       "      <td>7</td>\n",
       "      <td>10116</td>\n",
       "      <td>.</td>\n",
       "      <td>A</td>\n",
       "      <td>C</td>\n",
       "      <td>114.47</td>\n",
       "      <td>.</td>\n",
       "      <td>AC=2;AF=0.500;AN=4;DP=1528;FS=1.263;MQ=11.20;M...</td>\n",
       "      <td>GT:AD:AF:DP:GQ:FT:F1R2:F2R1:PL:GP</td>\n",
       "      <td>./.:219,123:0.360:341:0:LowGQ:.:.</td>\n",
       "      <td>./.:177,144:0.449:321:0:LowGQ:.:.</td>\n",
       "      <td>./.:220,30:0.120:249:0:LowGQ:.:.</td>\n",
       "      <td>0/0:311,94:0.232:405:0:LowGQ:.:.:0,0,2089:.</td>\n",
       "      <td>1/1:13,71:0.845:84:81:PASS:10,51:3,20:154,84,0...</td>\n",
       "    </tr>\n",
       "    <tr>\n",
       "      <th>1</th>\n",
       "      <td>7</td>\n",
       "      <td>11069</td>\n",
       "      <td>.</td>\n",
       "      <td>T</td>\n",
       "      <td>C</td>\n",
       "      <td>116.05</td>\n",
       "      <td>.</td>\n",
       "      <td>AC=5;AF=0.500;AN=10;DP=62;FS=7.945;MQ=9.66;MQR...</td>\n",
       "      <td>GT:AD:AF:DP:GQ:FT:F1R2:F2R1:PL:GP:PS</td>\n",
       "      <td>0/1:10,4:0.286:14:9:DRAGENSnpHardQUAL:5,4:5,0:...</td>\n",
       "      <td>0/0:4,2:0.333:6:0:LowGQ:.:.:0,0,72:.:.</td>\n",
       "      <td>1/1:2,10:0.833:12:3:PASS:1,4:1,6:53,3,0:1.8278...</td>\n",
       "      <td>0/1:13,6:0.316:19:9:DRAGENSnpHardQUAL:6,3:7,3:...</td>\n",
       "      <td>1|0:9,2:0.182:11:17:DRAGENSnpHardQUAL:3,2:6,0:...</td>\n",
       "    </tr>\n",
       "    <tr>\n",
       "      <th>2</th>\n",
       "      <td>7</td>\n",
       "      <td>11511</td>\n",
       "      <td>.</td>\n",
       "      <td>G</td>\n",
       "      <td>C</td>\n",
       "      <td>175.10</td>\n",
       "      <td>.</td>\n",
       "      <td>AC=7;AF=0.700;AN=10;DP=20;FS=0.000;MQ=6.98;MQR...</td>\n",
       "      <td>GT:AD:AF:DP:GQ:FT:F1R2:F2R1:PL:GP</td>\n",
       "      <td>1/1:0,6:1.000:6:12:PASS:0,3:0,3:53,18,0:1.5861...</td>\n",
       "      <td>0/1:1,2:0.667:3:3:DRAGENSnpHardQUAL:1,2:0,0:33...</td>\n",
       "      <td>1/1:0,4:1.000:4:9:PASS:0,2:0,2:61,12,0:2.4158e...</td>\n",
       "      <td>0/1:3,2:0.400:5:3:DRAGENSnpHardQUAL:1,1:2,1:35...</td>\n",
       "      <td>0/1:1,1:0.500:2:4:DRAGENSnpHardQUAL:1,0:0,1:33...</td>\n",
       "    </tr>\n",
       "    <tr>\n",
       "      <th>3</th>\n",
       "      <td>7</td>\n",
       "      <td>11727</td>\n",
       "      <td>.</td>\n",
       "      <td>C</td>\n",
       "      <td>T</td>\n",
       "      <td>243.73</td>\n",
       "      <td>.</td>\n",
       "      <td>AC=6;AF=0.600;AN=10;DP=49;FS=0.000;MQ=13.14;MQ...</td>\n",
       "      <td>GT:AD:AF:DP:GQ:FT:F1R2:F2R1:PL:GP</td>\n",
       "      <td>1/1:0,11:1.000:11:30:PASS:0,7:0,4:94,33,0:5.66...</td>\n",
       "      <td>1/1:1,14:0.933:15:26:PASS:1,6:0,8:96,29,0:5.81...</td>\n",
       "      <td>0/1:3,11:0.786:14:6:PASS:2,5:1,6:50,0,1:1.6432...</td>\n",
       "      <td>0/0:4,0:0.000:2:0:LowGQ:.:.:0,0,27:.</td>\n",
       "      <td>0/1:4,3:0.429:7:11:PASS:2,2:2,1:47,0,12:1.2205...</td>\n",
       "    </tr>\n",
       "    <tr>\n",
       "      <th>4</th>\n",
       "      <td>7</td>\n",
       "      <td>12362</td>\n",
       "      <td>.</td>\n",
       "      <td>T</td>\n",
       "      <td>G</td>\n",
       "      <td>384.88</td>\n",
       "      <td>.</td>\n",
       "      <td>AC=10;AF=1.000;AN=10;DP=52;FS=0.000;MQ=14.44;M...</td>\n",
       "      <td>GT:AD:AF:DP:GQ:FT:F1R2:F2R1:PL:GP</td>\n",
       "      <td>1/1:0,17:1.000:17:48:PASS:0,10:0,7:112,51,0:7....</td>\n",
       "      <td>1/1:0,16:1.000:16:45:PASS:0,8:0,8:110,48,0:7.2...</td>\n",
       "      <td>1/1:0,12:1.000:12:33:PASS:0,8:0,4:98,36,0:6.01...</td>\n",
       "      <td>1/1:0,2:1.000:2:5:PASS:0,1:0,1:53,6,0:1.6868e+...</td>\n",
       "      <td>1/1:1,3:0.750:4:3:PASS:1,2:0,1:49,3,0:1.4260e+...</td>\n",
       "    </tr>\n",
       "  </tbody>\n",
       "</table>\n",
       "</div>"
      ],
      "text/plain": [
       "  #CHROM    POS ID REF ALT    QUAL FILTER  \\\n",
       "0      7  10116  .   A   C  114.47      .   \n",
       "1      7  11069  .   T   C  116.05      .   \n",
       "2      7  11511  .   G   C  175.10      .   \n",
       "3      7  11727  .   C   T  243.73      .   \n",
       "4      7  12362  .   T   G  384.88      .   \n",
       "\n",
       "                                                INFO  \\\n",
       "0  AC=2;AF=0.500;AN=4;DP=1528;FS=1.263;MQ=11.20;M...   \n",
       "1  AC=5;AF=0.500;AN=10;DP=62;FS=7.945;MQ=9.66;MQR...   \n",
       "2  AC=7;AF=0.700;AN=10;DP=20;FS=0.000;MQ=6.98;MQR...   \n",
       "3  AC=6;AF=0.600;AN=10;DP=49;FS=0.000;MQ=13.14;MQ...   \n",
       "4  AC=10;AF=1.000;AN=10;DP=52;FS=0.000;MQ=14.44;M...   \n",
       "\n",
       "                                 FORMAT  \\\n",
       "0     GT:AD:AF:DP:GQ:FT:F1R2:F2R1:PL:GP   \n",
       "1  GT:AD:AF:DP:GQ:FT:F1R2:F2R1:PL:GP:PS   \n",
       "2     GT:AD:AF:DP:GQ:FT:F1R2:F2R1:PL:GP   \n",
       "3     GT:AD:AF:DP:GQ:FT:F1R2:F2R1:PL:GP   \n",
       "4     GT:AD:AF:DP:GQ:FT:F1R2:F2R1:PL:GP   \n",
       "\n",
       "                                            UDP18111  \\\n",
       "0                  ./.:219,123:0.360:341:0:LowGQ:.:.   \n",
       "1  0/1:10,4:0.286:14:9:DRAGENSnpHardQUAL:5,4:5,0:...   \n",
       "2  1/1:0,6:1.000:6:12:PASS:0,3:0,3:53,18,0:1.5861...   \n",
       "3  1/1:0,11:1.000:11:30:PASS:0,7:0,4:94,33,0:5.66...   \n",
       "4  1/1:0,17:1.000:17:48:PASS:0,10:0,7:112,51,0:7....   \n",
       "\n",
       "                                            UDP18142  \\\n",
       "0                  ./.:177,144:0.449:321:0:LowGQ:.:.   \n",
       "1             0/0:4,2:0.333:6:0:LowGQ:.:.:0,0,72:.:.   \n",
       "2  0/1:1,2:0.667:3:3:DRAGENSnpHardQUAL:1,2:0,0:33...   \n",
       "3  1/1:1,14:0.933:15:26:PASS:1,6:0,8:96,29,0:5.81...   \n",
       "4  1/1:0,16:1.000:16:45:PASS:0,8:0,8:110,48,0:7.2...   \n",
       "\n",
       "                                            UDP18143  \\\n",
       "0                   ./.:220,30:0.120:249:0:LowGQ:.:.   \n",
       "1  1/1:2,10:0.833:12:3:PASS:1,4:1,6:53,3,0:1.8278...   \n",
       "2  1/1:0,4:1.000:4:9:PASS:0,2:0,2:61,12,0:2.4158e...   \n",
       "3  0/1:3,11:0.786:14:6:PASS:2,5:1,6:50,0,1:1.6432...   \n",
       "4  1/1:0,12:1.000:12:33:PASS:0,8:0,4:98,36,0:6.01...   \n",
       "\n",
       "                                            UDP18144  \\\n",
       "0        0/0:311,94:0.232:405:0:LowGQ:.:.:0,0,2089:.   \n",
       "1  0/1:13,6:0.316:19:9:DRAGENSnpHardQUAL:6,3:7,3:...   \n",
       "2  0/1:3,2:0.400:5:3:DRAGENSnpHardQUAL:1,1:2,1:35...   \n",
       "3               0/0:4,0:0.000:2:0:LowGQ:.:.:0,0,27:.   \n",
       "4  1/1:0,2:1.000:2:5:PASS:0,1:0,1:53,6,0:1.6868e+...   \n",
       "\n",
       "                                            UDP18145  \n",
       "0  1/1:13,71:0.845:84:81:PASS:10,51:3,20:154,84,0...  \n",
       "1  1|0:9,2:0.182:11:17:DRAGENSnpHardQUAL:3,2:6,0:...  \n",
       "2  0/1:1,1:0.500:2:4:DRAGENSnpHardQUAL:1,0:0,1:33...  \n",
       "3  0/1:4,3:0.429:7:11:PASS:2,2:2,1:47,0,12:1.2205...  \n",
       "4  1/1:1,3:0.750:4:3:PASS:1,2:0,1:49,3,0:1.4260e+...  "
      ]
     },
     "execution_count": 8,
     "metadata": {},
     "output_type": "execute_result"
    }
   ],
   "source": [
    "chr7_df.head()"
   ]
  },
  {
   "cell_type": "code",
   "execution_count": 9,
   "metadata": {},
   "outputs": [],
   "source": [
    "# Step 4: Create list of children\n",
    "children = [Child(names[i], names[0], names[1]) for i in range(2, len(names))]"
   ]
  },
  {
   "cell_type": "code",
   "execution_count": 10,
   "metadata": {},
   "outputs": [],
   "source": [
    "# Step 5: Generate phasable SNP data for each child\n",
    "for elem in children:\n",
    "    elem.phasable_snp_determiner(chr7_df)"
   ]
  },
  {
   "cell_type": "code",
   "execution_count": 11,
   "metadata": {},
   "outputs": [
    {
     "name": "stdout",
     "output_type": "stream",
     "text": [
      "UDP18111\n",
      "107148\n",
      "107148\n",
      "107148\n"
     ]
    }
   ],
   "source": [
    "print(children[0].name)\n",
    "print(len(children[0].pos_arr))\n",
    "print(children[0].dad_rd_array.size)\n",
    "print(children[0].mom_rd_array.size)"
   ]
  },
  {
   "cell_type": "code",
   "execution_count": 12,
   "metadata": {},
   "outputs": [],
   "source": [
    "# Step 6: Do sliding t-test for each child and see if possible mosaicism present\n",
    "for elem in children:\n",
    "    elem.t_test_snps(10000)\n",
    "    elem.naive_t_test_snps(10000)"
   ]
  },
  {
   "cell_type": "code",
   "execution_count": 13,
   "metadata": {},
   "outputs": [
    {
     "name": "stdout",
     "output_type": "stream",
     "text": [
      "0\n",
      "0\n",
      "0\n"
     ]
    }
   ],
   "source": [
    "for elem in children:\n",
    "    print(elem.vcf_pos_start_of_mosaicism)"
   ]
  },
  {
   "cell_type": "code",
   "execution_count": 14,
   "metadata": {},
   "outputs": [
    {
     "name": "stdout",
     "output_type": "stream",
     "text": [
      "No child is mosaic\n"
     ]
    }
   ],
   "source": [
    "# Step 7: Check if a child is mosaic\n",
    "mosaic_child_present = False\n",
    "for elem in children:\n",
    "    if elem.vcf_pos_start_of_mosaicism != 0:\n",
    "        mosaic_child_present = True\n",
    "        elem.edge_detection(50, 100, 0.5)\n",
    "\n",
    "# if all clear, print out\n",
    "if not mosaic_child_present:\n",
    "    print(\"No child is mosaic\")\n",
    "else:\n",
    "    print(\"A child is mosaic\")"
   ]
  },
  {
   "cell_type": "code",
   "execution_count": 15,
   "metadata": {},
   "outputs": [],
   "source": [
    "import matplotlib.pyplot as plt\n",
    "from scipy.stats import t\n",
    "%matplotlib inline"
   ]
  },
  {
   "cell_type": "code",
   "execution_count": 30,
   "metadata": {},
   "outputs": [
    {
     "data": {
      "text/plain": [
       "Text(0, 0.5, 't-values')"
      ]
     },
     "execution_count": 30,
     "metadata": {},
     "output_type": "execute_result"
    },
    {
     "data": {
      "image/png": "[encoded data removed]",
      "text/plain": [
       "<Figure size 432x288 with 1 Axes>"
      ]
     },
     "metadata": {
      "needs_background": "light"
     },
     "output_type": "display_data"
    }
   ],
   "source": [
    "# Plot the t-values for UDP112828\n",
    "plt.plot(children[0].naive_t_values)\n",
    "plt.hlines(t.ppf(0.95, 10000-1).item(), 0, len(children[0].naive_t_values))\n",
    "plt.title(children[0].name + \" for sample size 10000\")\n",
    "plt.ylabel('t-values')"
   ]
  }
 ],
 "metadata": {
  "kernelspec": {
   "display_name": "Python 3",
   "language": "python",
   "name": "python3"
  },
  "language_info": {
   "codemirror_mode": {
    "name": "ipython",
    "version": 3
   },
   "file_extension": ".py",
   "mimetype": "text/x-python",
   "name": "python",
   "nbconvert_exporter": "python",
   "pygments_lexer": "ipython3",
   "version": "3.8.5"
  }
 },
 "nbformat": 4,
 "nbformat_minor": 4
}
